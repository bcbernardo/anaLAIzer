{
 "cells": [
  {
   "cell_type": "markdown",
   "metadata": {
    "id": "BFc0JnRBgWcE"
   },
   "source": [
    "## Configurar ambiente de trabalho"
   ]
  },
  {
   "cell_type": "markdown",
   "metadata": {
    "id": "OFf5d6S2gfni"
   },
   "source": [
    "### Inicializar o espaço de trabalho"
   ]
  },
  {
   "cell_type": "code",
   "execution_count": 1,
   "metadata": {
    "colab": {
     "base_uri": "https://localhost:8080/"
    },
    "executionInfo": {
     "elapsed": 759,
     "status": "ok",
     "timestamp": 1627162371148,
     "user": {
      "displayName": "Bernardo Chrispim Baron",
      "photoUrl": "",
      "userId": "03595684689897143360"
     },
     "user_tz": 180
    },
    "id": "ckfPoIBhFa-k",
    "outputId": "308a8e66-b8a3-4676-c601-13f13c6e29d6"
   },
   "outputs": [],
   "source": [
    "import csv\n",
    "import os\n",
    "import sys\n",
    "from collections.abc import Iterable\n",
    "from datetime import datetime\n",
    "from functools import partial\n",
    "from io import BytesIO, StringIO\n",
    "from itertools import chain\n",
    "from pathlib import Path\n",
    "from urllib.request import urlopen\n",
    "from zipfile import ZipFile\n",
    "\n",
    "import log\n",
    "import pandas as pd\n",
    "from pandas import DataFrame\n",
    "from pandas.errors import ParserError\n",
    "\n",
    "REPO_ROOT = Path(os.getcwd()).parent\n",
    "DATA_DIR = Path(REPO_ROOT, \"data\")\n",
    "IN_DATA_DIR = Path(DATA_DIR, \"input\")\n",
    "MID_DATA_DIR = Path(DATA_DIR, \"middle\")\n",
    "OUT_DATA_DIR = Path(DATA_DIR, \"output\")\n",
    "\n",
    "NOW: datetime = datetime.now().astimezone()\n",
    "\n",
    "for dirpath in [DATA_DIR, IN_DATA_DIR, MID_DATA_DIR, OUT_DATA_DIR]:\n",
    "    if not dirpath.is_dir():\n",
    "        dirpath.mkdir()\n",
    "\n",
    "\n",
    "# set workspace dir\n",
    "sys._getframe(1).f_globals[\"__file__\"] = str(Path(\".\").resolve())\n",
    "\n",
    "# set logging level\n",
    "log.init(level=log.INFO)"
   ]
  },
  {
   "cell_type": "markdown",
   "metadata": {
    "id": "dKrn1iyiW2WA"
   },
   "source": [
    "## Fazer download dos dados históricos do Fala.BR"
   ]
  },
  {
   "cell_type": "code",
   "execution_count": 2,
   "metadata": {},
   "outputs": [],
   "source": [
    "# Reader functions for FalaBR FOIA historical data\n",
    "foia_readers_params = dict(\n",
    "    sep=\";\",\n",
    "    header=None,\n",
    "    cache_dates=True,\n",
    "    date_parser=partial(\n",
    "        pd.to_datetime, format=\"%d/%m/%Y\", errors=\"coerce\"\n",
    "    ),\n",
    "    na_values=[\"\", 0],\n",
    ")"
   ]
  },
  {
   "cell_type": "code",
   "execution_count": 14,
   "metadata": {},
   "outputs": [
    {
     "output_type": "execute_result",
     "data": {
      "text/plain": [
       "                                          OrgaoDestinatario   Situacao  \\\n",
       "IdPedido                                                                 \n",
       "1887837    UFPel – Fundação Universidade Federal de Pelotas  Concluída   \n",
       "1887842   UFRGS – Universidade Federal do Rio Grande do Sul  Concluída   \n",
       "1887846   IFPI – Instituto Federal de Educação, Ciência ...  Concluída   \n",
       "1887851       UFCG – Universidade Federal de Campina Grande  Concluída   \n",
       "1887855               UFF – Universidade Federal Fluminense  Concluída   \n",
       "...                                                     ...        ...   \n",
       "2793643   CAPES – Coordenação de Aperfeiçoamento de Pess...  Concluída   \n",
       "2793644          INSS – Instituto Nacional do Seguro Social  Concluída   \n",
       "2793668                            MS – Ministério da Saúde  Concluída   \n",
       "2793689        SUSEP – Superintendência de Seguros Privados  Concluída   \n",
       "                                                        NaN        NaN   \n",
       "\n",
       "         DataRegistro                            DetalhamentoSolicitacao  \\\n",
       "IdPedido                                                                   \n",
       "1887837    2015-07-01  Prezados,  Gostaria de solicitar informações s...   \n",
       "1887842    2015-07-01  Prezados,  Gostaria de solicitar informações s...   \n",
       "1887846    2015-07-01  Prezados,  Gostaria de solicitar informações s...   \n",
       "1887851    2015-07-01  Prezados,  Gostaria de solicitar informações s...   \n",
       "1887855    2015-07-01  Prezados,  Gostaria de solicitar informações s...   \n",
       "...               ...                                                ...   \n",
       "2793643    2020-12-31  No ano de 2020 o Programa de Pós-Graduação em ...   \n",
       "2793644    2020-12-31  Fiz um pedido de prorrogação de auxílio doenca...   \n",
       "2793668    2020-12-31  Número de óbitos registrados por ano nos anos ...   \n",
       "2793689    2020-12-31  Por favor referente processo SUSEP 15414633999...   \n",
       "                  NaT                                                NaN   \n",
       "\n",
       "                  AssuntoPedido                 Decisao  \\\n",
       "IdPedido                                                  \n",
       "1887837         Conduta Docente        Acesso Concedido   \n",
       "1887842      Outros em Trabalho        Acesso Concedido   \n",
       "1887846         Conduta Docente        Acesso Concedido   \n",
       "1887851       Educação Superior        Acesso Concedido   \n",
       "1887855       Educação Superior        Acesso Concedido   \n",
       "...                         ...                     ...   \n",
       "2793643                  Bolsas  Informação Inexistente   \n",
       "2793644     Acesso à informação        Acesso Concedido   \n",
       "2793668         Outros em Saúde        Acesso Concedido   \n",
       "2793689   Outros em Previdência        Acesso Concedido   \n",
       "                            NaN                     NaN   \n",
       "\n",
       "                                       EspecificacaoDecisao  \n",
       "IdPedido                                                     \n",
       "1887837             Resposta solicitada inserida no Fala.Br  \n",
       "1887842             Resposta solicitada inserida no Fala.Br  \n",
       "1887846             Resposta solicitada inserida no Fala.Br  \n",
       "1887851                     Informações enviadas por e-mail  \n",
       "1887855             Resposta solicitada inserida no Fala.Br  \n",
       "...                                                     ...  \n",
       "2793643                                                 NaN  \n",
       "2793644   Orientação sobre como encontrar a informação s...  \n",
       "2793668             Resposta solicitada inserida no Fala.Br  \n",
       "2793689             Resposta solicitada inserida no Fala.Br  \n",
       "                                                        NaN  \n",
       "\n",
       "[542915 rows x 7 columns]"
      ],
      "text/html": "<div>\n<style scoped>\n    .dataframe tbody tr th:only-of-type {\n        vertical-align: middle;\n    }\n\n    .dataframe tbody tr th {\n        vertical-align: top;\n    }\n\n    .dataframe thead th {\n        text-align: right;\n    }\n</style>\n<table border=\"1\" class=\"dataframe\">\n  <thead>\n    <tr style=\"text-align: right;\">\n      <th></th>\n      <th>OrgaoDestinatario</th>\n      <th>Situacao</th>\n      <th>DataRegistro</th>\n      <th>DetalhamentoSolicitacao</th>\n      <th>AssuntoPedido</th>\n      <th>Decisao</th>\n      <th>EspecificacaoDecisao</th>\n    </tr>\n    <tr>\n      <th>IdPedido</th>\n      <th></th>\n      <th></th>\n      <th></th>\n      <th></th>\n      <th></th>\n      <th></th>\n      <th></th>\n    </tr>\n  </thead>\n  <tbody>\n    <tr>\n      <th>1887837</th>\n      <td>UFPel – Fundação Universidade Federal de Pelotas</td>\n      <td>Concluída</td>\n      <td>2015-07-01</td>\n      <td>Prezados,  Gostaria de solicitar informações s...</td>\n      <td>Conduta Docente</td>\n      <td>Acesso Concedido</td>\n      <td>Resposta solicitada inserida no Fala.Br</td>\n    </tr>\n    <tr>\n      <th>1887842</th>\n      <td>UFRGS – Universidade Federal do Rio Grande do Sul</td>\n      <td>Concluída</td>\n      <td>2015-07-01</td>\n      <td>Prezados,  Gostaria de solicitar informações s...</td>\n      <td>Outros em Trabalho</td>\n      <td>Acesso Concedido</td>\n      <td>Resposta solicitada inserida no Fala.Br</td>\n    </tr>\n    <tr>\n      <th>1887846</th>\n      <td>IFPI – Instituto Federal de Educação, Ciência ...</td>\n      <td>Concluída</td>\n      <td>2015-07-01</td>\n      <td>Prezados,  Gostaria de solicitar informações s...</td>\n      <td>Conduta Docente</td>\n      <td>Acesso Concedido</td>\n      <td>Resposta solicitada inserida no Fala.Br</td>\n    </tr>\n    <tr>\n      <th>1887851</th>\n      <td>UFCG – Universidade Federal de Campina Grande</td>\n      <td>Concluída</td>\n      <td>2015-07-01</td>\n      <td>Prezados,  Gostaria de solicitar informações s...</td>\n      <td>Educação Superior</td>\n      <td>Acesso Concedido</td>\n      <td>Informações enviadas por e-mail</td>\n    </tr>\n    <tr>\n      <th>1887855</th>\n      <td>UFF – Universidade Federal Fluminense</td>\n      <td>Concluída</td>\n      <td>2015-07-01</td>\n      <td>Prezados,  Gostaria de solicitar informações s...</td>\n      <td>Educação Superior</td>\n      <td>Acesso Concedido</td>\n      <td>Resposta solicitada inserida no Fala.Br</td>\n    </tr>\n    <tr>\n      <th>...</th>\n      <td>...</td>\n      <td>...</td>\n      <td>...</td>\n      <td>...</td>\n      <td>...</td>\n      <td>...</td>\n      <td>...</td>\n    </tr>\n    <tr>\n      <th>2793643</th>\n      <td>CAPES – Coordenação de Aperfeiçoamento de Pess...</td>\n      <td>Concluída</td>\n      <td>2020-12-31</td>\n      <td>No ano de 2020 o Programa de Pós-Graduação em ...</td>\n      <td>Bolsas</td>\n      <td>Informação Inexistente</td>\n      <td>NaN</td>\n    </tr>\n    <tr>\n      <th>2793644</th>\n      <td>INSS – Instituto Nacional do Seguro Social</td>\n      <td>Concluída</td>\n      <td>2020-12-31</td>\n      <td>Fiz um pedido de prorrogação de auxílio doenca...</td>\n      <td>Acesso à informação</td>\n      <td>Acesso Concedido</td>\n      <td>Orientação sobre como encontrar a informação s...</td>\n    </tr>\n    <tr>\n      <th>2793668</th>\n      <td>MS – Ministério da Saúde</td>\n      <td>Concluída</td>\n      <td>2020-12-31</td>\n      <td>Número de óbitos registrados por ano nos anos ...</td>\n      <td>Outros em Saúde</td>\n      <td>Acesso Concedido</td>\n      <td>Resposta solicitada inserida no Fala.Br</td>\n    </tr>\n    <tr>\n      <th>2793689</th>\n      <td>SUSEP – Superintendência de Seguros Privados</td>\n      <td>Concluída</td>\n      <td>2020-12-31</td>\n      <td>Por favor referente processo SUSEP 15414633999...</td>\n      <td>Outros em Previdência</td>\n      <td>Acesso Concedido</td>\n      <td>Resposta solicitada inserida no Fala.Br</td>\n    </tr>\n    <tr>\n      <th></th>\n      <td>NaN</td>\n      <td>NaN</td>\n      <td>NaT</td>\n      <td>NaN</td>\n      <td>NaN</td>\n      <td>NaN</td>\n      <td>NaN</td>\n    </tr>\n  </tbody>\n</table>\n<p>542915 rows × 7 columns</p>\n</div>"
     },
     "metadata": {},
     "execution_count": 14
    }
   ],
   "source": [
    "requests = pd.concat([\n",
    "    pd.read_csv(\n",
    "        path,\n",
    "        encoding=\"UTF-16\",\n",
    "        index_col=\"IdPedido\",\n",
    "        names=[\n",
    "            \"IdPedido\",\n",
    "            \"ProtocoloPedido\",\n",
    "            \"Esfera\",\n",
    "            \"OrgaoDestinatario\",\n",
    "            \"Situacao\",\n",
    "            \"DataRegistro\",\n",
    "            \"ResumoSolicitacao\",\n",
    "            \"DetalhamentoSolicitacao\",\n",
    "            \"PrazoAtendimento\",\n",
    "            \"FoiProrrogado\",\n",
    "            \"FoiReencaminhado\",\n",
    "            \"FormaResposta\",\n",
    "            \"OrigemSolicitacao\",\n",
    "            \"IdSolicitante\",\n",
    "            \"AssuntoPedido\",\n",
    "            \"SubAssuntoPedido\",\n",
    "            \"DataResposta\",\n",
    "            \"Resposta\",\n",
    "            \"Decisao\",\n",
    "            \"EspecificacaoDecisao\",\n",
    "        ],\n",
    "        parse_dates=[\n",
    "            \"DataRegistro\",\n",
    "        ],\n",
    "        usecols=[\n",
    "            \"IdPedido\",\n",
    "            \"OrgaoDestinatario\",\n",
    "            \"Situacao\",\n",
    "            \"DataRegistro\",\n",
    "            \"AssuntoPedido\",\n",
    "            \"DetalhamentoSolicitacao\",\n",
    "            \"Decisao\",\n",
    "            \"EspecificacaoDecisao\",\n",
    "        ],\n",
    "        lineterminator=\"\\r\",\n",
    "        **foia_readers_params,\n",
    "    ) for path in IN_DATA_DIR.glob(f\"????????_Pedidos_csv_????.csv\")\n",
    "])\n",
    "\n",
    "requests.index = requests.index.to_series().apply(lambda _id: _id.lstrip(\"\\n\") if isinstance(_id, str) else _id)\n",
    "\n",
    "requests"
   ]
  },
  {
   "source": [
    "## Pré-processar textos"
   ],
   "cell_type": "markdown",
   "metadata": {}
  },
  {
   "cell_type": "code",
   "execution_count": 15,
   "metadata": {},
   "outputs": [
    {
     "output_type": "execute_result",
     "data": {
      "text/plain": [
       "                                          OrgaoDestinatario   Situacao  \\\n",
       "IdPedido                                                                 \n",
       "1887837    UFPel – Fundação Universidade Federal de Pelotas  Concluída   \n",
       "1887842   UFRGS – Universidade Federal do Rio Grande do Sul  Concluída   \n",
       "1887846   IFPI – Instituto Federal de Educação, Ciência ...  Concluída   \n",
       "1887851       UFCG – Universidade Federal de Campina Grande  Concluída   \n",
       "1887855               UFF – Universidade Federal Fluminense  Concluída   \n",
       "...                                                     ...        ...   \n",
       "2793635   MAPA – Ministério da Agricultura, Pecuária e A...  Concluída   \n",
       "2793643   CAPES – Coordenação de Aperfeiçoamento de Pess...  Concluída   \n",
       "2793644          INSS – Instituto Nacional do Seguro Social  Concluída   \n",
       "2793668                            MS – Ministério da Saúde  Concluída   \n",
       "2793689        SUSEP – Superintendência de Seguros Privados  Concluída   \n",
       "\n",
       "         DataRegistro                            DetalhamentoSolicitacao  \\\n",
       "IdPedido                                                                   \n",
       "1887837    2015-07-01  prezados gostaria de solicitar informações sob...   \n",
       "1887842    2015-07-01  prezados gostaria de solicitar informações sob...   \n",
       "1887846    2015-07-01  prezados gostaria de solicitar informações sob...   \n",
       "1887851    2015-07-01  prezados gostaria de solicitar informações sob...   \n",
       "1887855    2015-07-01  prezados gostaria de solicitar informações sob...   \n",
       "...               ...                                                ...   \n",
       "2793635    2020-12-31  boa noite tenho uma dúvida técnica podem me aj...   \n",
       "2793643    2020-12-31  no ano de 2020 o programa de pós graduação em ...   \n",
       "2793644    2020-12-31  fiz um pedido de prorrogação de auxílio doenca...   \n",
       "2793668    2020-12-31  número de óbitos registrados por ano nos anos ...   \n",
       "2793689    2020-12-31  por favor referente processo susep 15414633999...   \n",
       "\n",
       "                  AssuntoPedido                                    Decisao  \\\n",
       "IdPedido                                                                     \n",
       "1887837         Conduta Docente                           Acesso Concedido   \n",
       "1887842      Outros em Trabalho                           Acesso Concedido   \n",
       "1887846         Conduta Docente                           Acesso Concedido   \n",
       "1887851       Educação Superior                           Acesso Concedido   \n",
       "1887855       Educação Superior                           Acesso Concedido   \n",
       "...                         ...                                        ...   \n",
       "2793635     Acesso à informação  Não se trata de solicitação de informação   \n",
       "2793643                  Bolsas                     Informação Inexistente   \n",
       "2793644     Acesso à informação                           Acesso Concedido   \n",
       "2793668         Outros em Saúde                           Acesso Concedido   \n",
       "2793689   Outros em Previdência                           Acesso Concedido   \n",
       "\n",
       "                                       EspecificacaoDecisao  \n",
       "IdPedido                                                     \n",
       "1887837             Resposta solicitada inserida no Fala.Br  \n",
       "1887842             Resposta solicitada inserida no Fala.Br  \n",
       "1887846             Resposta solicitada inserida no Fala.Br  \n",
       "1887851                     Informações enviadas por e-mail  \n",
       "1887855             Resposta solicitada inserida no Fala.Br  \n",
       "...                                                     ...  \n",
       "2793635                                                 NaN  \n",
       "2793643                                                 NaN  \n",
       "2793644   Orientação sobre como encontrar a informação s...  \n",
       "2793668             Resposta solicitada inserida no Fala.Br  \n",
       "2793689             Resposta solicitada inserida no Fala.Br  \n",
       "\n",
       "[542905 rows x 7 columns]"
      ],
      "text/html": "<div>\n<style scoped>\n    .dataframe tbody tr th:only-of-type {\n        vertical-align: middle;\n    }\n\n    .dataframe tbody tr th {\n        vertical-align: top;\n    }\n\n    .dataframe thead th {\n        text-align: right;\n    }\n</style>\n<table border=\"1\" class=\"dataframe\">\n  <thead>\n    <tr style=\"text-align: right;\">\n      <th></th>\n      <th>OrgaoDestinatario</th>\n      <th>Situacao</th>\n      <th>DataRegistro</th>\n      <th>DetalhamentoSolicitacao</th>\n      <th>AssuntoPedido</th>\n      <th>Decisao</th>\n      <th>EspecificacaoDecisao</th>\n    </tr>\n    <tr>\n      <th>IdPedido</th>\n      <th></th>\n      <th></th>\n      <th></th>\n      <th></th>\n      <th></th>\n      <th></th>\n      <th></th>\n    </tr>\n  </thead>\n  <tbody>\n    <tr>\n      <th>1887837</th>\n      <td>UFPel – Fundação Universidade Federal de Pelotas</td>\n      <td>Concluída</td>\n      <td>2015-07-01</td>\n      <td>prezados gostaria de solicitar informações sob...</td>\n      <td>Conduta Docente</td>\n      <td>Acesso Concedido</td>\n      <td>Resposta solicitada inserida no Fala.Br</td>\n    </tr>\n    <tr>\n      <th>1887842</th>\n      <td>UFRGS – Universidade Federal do Rio Grande do Sul</td>\n      <td>Concluída</td>\n      <td>2015-07-01</td>\n      <td>prezados gostaria de solicitar informações sob...</td>\n      <td>Outros em Trabalho</td>\n      <td>Acesso Concedido</td>\n      <td>Resposta solicitada inserida no Fala.Br</td>\n    </tr>\n    <tr>\n      <th>1887846</th>\n      <td>IFPI – Instituto Federal de Educação, Ciência ...</td>\n      <td>Concluída</td>\n      <td>2015-07-01</td>\n      <td>prezados gostaria de solicitar informações sob...</td>\n      <td>Conduta Docente</td>\n      <td>Acesso Concedido</td>\n      <td>Resposta solicitada inserida no Fala.Br</td>\n    </tr>\n    <tr>\n      <th>1887851</th>\n      <td>UFCG – Universidade Federal de Campina Grande</td>\n      <td>Concluída</td>\n      <td>2015-07-01</td>\n      <td>prezados gostaria de solicitar informações sob...</td>\n      <td>Educação Superior</td>\n      <td>Acesso Concedido</td>\n      <td>Informações enviadas por e-mail</td>\n    </tr>\n    <tr>\n      <th>1887855</th>\n      <td>UFF – Universidade Federal Fluminense</td>\n      <td>Concluída</td>\n      <td>2015-07-01</td>\n      <td>prezados gostaria de solicitar informações sob...</td>\n      <td>Educação Superior</td>\n      <td>Acesso Concedido</td>\n      <td>Resposta solicitada inserida no Fala.Br</td>\n    </tr>\n    <tr>\n      <th>...</th>\n      <td>...</td>\n      <td>...</td>\n      <td>...</td>\n      <td>...</td>\n      <td>...</td>\n      <td>...</td>\n      <td>...</td>\n    </tr>\n    <tr>\n      <th>2793635</th>\n      <td>MAPA – Ministério da Agricultura, Pecuária e A...</td>\n      <td>Concluída</td>\n      <td>2020-12-31</td>\n      <td>boa noite tenho uma dúvida técnica podem me aj...</td>\n      <td>Acesso à informação</td>\n      <td>Não se trata de solicitação de informação</td>\n      <td>NaN</td>\n    </tr>\n    <tr>\n      <th>2793643</th>\n      <td>CAPES – Coordenação de Aperfeiçoamento de Pess...</td>\n      <td>Concluída</td>\n      <td>2020-12-31</td>\n      <td>no ano de 2020 o programa de pós graduação em ...</td>\n      <td>Bolsas</td>\n      <td>Informação Inexistente</td>\n      <td>NaN</td>\n    </tr>\n    <tr>\n      <th>2793644</th>\n      <td>INSS – Instituto Nacional do Seguro Social</td>\n      <td>Concluída</td>\n      <td>2020-12-31</td>\n      <td>fiz um pedido de prorrogação de auxílio doenca...</td>\n      <td>Acesso à informação</td>\n      <td>Acesso Concedido</td>\n      <td>Orientação sobre como encontrar a informação s...</td>\n    </tr>\n    <tr>\n      <th>2793668</th>\n      <td>MS – Ministério da Saúde</td>\n      <td>Concluída</td>\n      <td>2020-12-31</td>\n      <td>número de óbitos registrados por ano nos anos ...</td>\n      <td>Outros em Saúde</td>\n      <td>Acesso Concedido</td>\n      <td>Resposta solicitada inserida no Fala.Br</td>\n    </tr>\n    <tr>\n      <th>2793689</th>\n      <td>SUSEP – Superintendência de Seguros Privados</td>\n      <td>Concluída</td>\n      <td>2020-12-31</td>\n      <td>por favor referente processo susep 15414633999...</td>\n      <td>Outros em Previdência</td>\n      <td>Acesso Concedido</td>\n      <td>Resposta solicitada inserida no Fala.Br</td>\n    </tr>\n  </tbody>\n</table>\n<p>542905 rows × 7 columns</p>\n</div>"
     },
     "metadata": {},
     "execution_count": 15
    }
   ],
   "source": [
    "import re\n",
    "\n",
    "\n",
    "def preprocess(text: str) -> str:\n",
    "    return re.sub(r\" {2,}\", \" \", re.sub(r\"\\W\", \" \", text.lower()))\n",
    "\n",
    "\n",
    "requests.dropna(subset=[\"DetalhamentoSolicitacao\"], inplace=True)\n",
    "requests[\"DetalhamentoSolicitacao\"] = requests[\"DetalhamentoSolicitacao\"].apply(\n",
    "    preprocess\n",
    ")\n",
    "\n",
    "requests"
   ]
  },
  {
   "source": [
    "## Atribuir rótulos"
   ],
   "cell_type": "markdown",
   "metadata": {}
  },
  {
   "cell_type": "code",
   "execution_count": 36,
   "metadata": {},
   "outputs": [
    {
     "output_type": "execute_result",
     "data": {
      "text/plain": [
       "Decisao\n",
       "Acesso Concedido                                                                                                                                                                                                                                                                                                                                                                                                                                                                                                                                                                                                                                                                                                                                                                                                                                                                                                                                                                                                                                                                                                                                                                                                                         384557\n",
       "Não se trata de solicitação de informação                                                                                                                                                                                                                                                                                                                                                                                                                                                                                                                                                                                                                                                                                                                                                                                                                                                                                                                                                                                                                                                                                                                                                                                                 47381\n",
       "Acesso Negado                                                                                                                                                                                                                                                                                                                                                                                                                                                                                                                                                                                                                                                                                                                                                                                                                                                                                                                                                                                                                                                                                                                                                                                                                             35524\n",
       "Acesso Parcialmente Concedido                                                                                                                                                                                                                                                                                                                                                                                                                                                                                                                                                                                                                                                                                                                                                                                                                                                                                                                                                                                                                                                                                                                                                                                                             25883\n",
       "Informação Inexistente                                                                                                                                                                                                                                                                                                                                                                                                                                                                                                                                                                                                                                                                                                                                                                                                                                                                                                                                                                                                                                                                                                                                                                                                                    18985\n",
       "Órgão não tem competência para responder sobre o assunto                                                                                                                                                                                                                                                                                                                                                                                                                                                                                                                                                                                                                                                                                                                                                                                                                                                                                                                                                                                                                                                                                                                                                                                  18037\n",
       "Pergunta Duplicada/Repetida                                                                                                                                                                                                                                                                                                                                                                                                                                                                                                                                                                                                                                                                                                                                                                                                                                                                                                                                                                                                                                                                                                                                                                                                               12175\n",
       "Resposta solicitada inserida no Fala.Br                                                                                                                                                                                                                                                                                                                                                                                                                                                                                                                                                                                                                                                                                                                                                                                                                                                                                                                                                                                                                                                                                                                                                                                                      19\n",
       "Informações enviadas por e-mail                                                                                                                                                                                                                                                                                                                                                                                                                                                                                                                                                                                                                                                                                                                                                                                                                                                                                                                                                                                                                                                                                                                                                                                                              13\n",
       "Concedido acesso a sistema corporativo para consulta da informação                                                                                                                                                                                                                                                                                                                                                                                                                                                                                                                                                                                                                                                                                                                                                                                                                                                                                                                                                                                                                                                                                                                                                                            6\n",
       "Orientação sobre como encontrar a informação solicitada na Internet ou em publicações existentes                                                                                                                                                                                                                                                                                                                                                                                                                                                                                                                                                                                                                                                                                                                                                                                                                                                                                                                                                                                                                                                                                                                                              2\n",
       "30/03/2015                                                                                                                                                                                                                                                                                                                                                                                                                                                                                                                                                                                                                                                                                                                                                                                                                                                                                                                                                                                                                                                                                                                                                                                                                                    2\n",
       "Gostaria de sanar uma dúvida referente à regularização de uma microcervejaria no estilo \"brewpub\", ou seja, só venderá sua cerveja em seu próprio estabelecimento. Sou contador e estou iniciando o processo de abertura do CNPJ e nisso vi que a atividade de fabricação de cerveja é impeditiva para ingressar no regime de tributação pelo simples nacional, porém a lei complementar 155 art 17 inciso C diz diz que é permitido o ingresso de microcervejarias neste regime. Minha dúvida é se eu posso dar entrada no MAPA para regulamentar o estabelecimento tendo o CNAE de 5611-2/02 - Bares e outros estabelecimentos especializados em servir bebidas (Anexo I). Só é interessante ao meu cliente a abertura se conseguir se enquadrar no regime do simples nacional, por isso gostaria de sanar completamente essa dúvida antes de iniciar a abertura do CNPJ. Pesquisei outras microcervejarias e vi que elas não tem a atividade de fabricação de cervejas justamente por ser impeditivo. Att, Eduardo                                                                                                                                                                                                                         1\n",
       "Respondente: Serviço de Informação ao Cidadão  Teor da Resposta:   Prezado Petrônio Filgueiras de Athayde Filho:  Bom dia.  A planilha completa com os aprovados o Sr. poderá acessar em http://www.cnpq.br/web/guest/noticiasviews/-/journal_content/56_INSTANCE_a6MO/10157/5586061  A planilha permite executar vários filtros, pelos quais conseguirá encontrar os pesquisadores desejados.  Para saber de que modalidade eles são bolsistas, basta confrontar os nomes da planilha com os bolsistas vigentes do CNPq, por modalidade, cujo acesso está em http://cnpq.br/bolsistas-vigentes/  Atenciosamente,  Equipe SIC.    De acordo com o artigo 21 do decreto 7.724/1012: “no caso de negativa de acesso à informação ou de não fornecimento das razões da negativa do acesso, poderá o requerente apresentar recurso no prazo de dez dias, contado da ciência da decisão, à autoridade hierarquicamente superior à que adotou a decisão, que deverá apreciá-lo no prazo de cinco dias, contado da sua apresentação.”  Para mais informações acesse: http://www.planalto.gov.br/CCIVIL_03/_Ato2011-2014/2012/Decreto/D7724.htm   http://www.cnpq.br/web/guest/noticiasviews/-/journal_content/56_INSTANCE_a6MO/10157/5586061         1\n",
       "06/04/2015                                                                                                                                                                                                                                                                                                                                                                                                                                                                                                                                                                                                                                                                                                                                                                                                                                                                                                                                                                                                                                                                                                                                                                                                                                    1\n",
       "Name: IdPedido, dtype: int64"
      ]
     },
     "metadata": {},
     "execution_count": 36
    }
   ],
   "source": [
    "requests.reset_index().groupby([\"Decisao\"])[\"IdPedido\"].count().sort_values(ascending=False).head(15)"
   ]
  },
  {
   "cell_type": "code",
   "execution_count": 37,
   "metadata": {},
   "outputs": [
    {
     "output_type": "execute_result",
     "data": {
      "text/plain": [
       "EspecificacaoDecisao\n",
       "Resposta solicitada inserida no Fala.Br                                                             297216\n",
       "Orientação sobre como encontrar a informação solicitada na Internet ou em publicações existentes     50091\n",
       "Informações enviadas por e-mail                                                                      26640\n",
       "Pedido genérico                                                                                       7905\n",
       "Dados pessoais                                                                                        5804\n",
       "Parte da informação inexistente                                                                       5259\n",
       "Informação sigilosa de acordo com legislação específica                                               5168\n",
       "Parte da informação é de competência de outro órgão/entidade                                          5122\n",
       "Concedido acesso a sistema corporativo para consulta da informação                                    4568\n",
       "Processo decisório em curso                                                                           4102\n",
       "Pedido desproporcional ou desarrazoado                                                                3979\n",
       "Pedido exige tratamento adicional de dados                                                            3768\n",
       "Pedido incompreensível                                                                                3292\n",
       "Data, hora e local para consulta agendados                                                            3117\n",
       "Parte da informação demandará mais tempo para produção                                                3025\n",
       "Informação sigilosa classificada conforme a Lei 12.527/2011                                           2724\n",
       "Parte da informação é sigilosa de acordo com legislação específica                                    2673\n",
       "Parte da informação contém dados pessoais                                                             2658\n",
       "Parte da informação é sigilosa e classificada conforme a Lei 12.527/2011                              2525\n",
       "Informações enviadas pelo correio                                                                     1553\n",
       "Parte do pedido é desproporcional ou desarrazoado                                                     1498\n",
       "Comunicada necessidade de pagamento de custos de postagem e/ou reprodução                             1372\n",
       "Parte do pedido é genérico                                                                            1302\n",
       "Parte do pedido é incompreensível                                                                      603\n",
       "Não                                                                                                     14\n",
       "27/06/2018                                                                                               1\n",
       "Acesso Concedido                                                                                         1\n",
       "Sim                                                                                                      1\n",
       "Name: IdPedido, dtype: int64"
      ]
     },
     "metadata": {},
     "execution_count": 37
    }
   ],
   "source": [
    "requests.reset_index().groupby(\"EspecificacaoDecisao\")[\"IdPedido\"].count().sort_values(ascending=False)"
   ]
  },
  {
   "cell_type": "code",
   "execution_count": 16,
   "metadata": {},
   "outputs": [
    {
     "output_type": "execute_result",
     "data": {
      "text/plain": [
       "                                          OrgaoDestinatario   Situacao  \\\n",
       "IdPedido                                                                 \n",
       "1887837    UFPel – Fundação Universidade Federal de Pelotas  Concluída   \n",
       "1887842   UFRGS – Universidade Federal do Rio Grande do Sul  Concluída   \n",
       "1887846   IFPI – Instituto Federal de Educação, Ciência ...  Concluída   \n",
       "1887851       UFCG – Universidade Federal de Campina Grande  Concluída   \n",
       "1887855               UFF – Universidade Federal Fluminense  Concluída   \n",
       "...                                                     ...        ...   \n",
       "2793635   MAPA – Ministério da Agricultura, Pecuária e A...  Concluída   \n",
       "2793643   CAPES – Coordenação de Aperfeiçoamento de Pess...  Concluída   \n",
       "2793644          INSS – Instituto Nacional do Seguro Social  Concluída   \n",
       "2793668                            MS – Ministério da Saúde  Concluída   \n",
       "2793689        SUSEP – Superintendência de Seguros Privados  Concluída   \n",
       "\n",
       "         DataRegistro                            DetalhamentoSolicitacao  \\\n",
       "IdPedido                                                                   \n",
       "1887837    2015-07-01  __label__acesso_concedido prezados gostaria de...   \n",
       "1887842    2015-07-01  __label__acesso_concedido prezados gostaria de...   \n",
       "1887846    2015-07-01  __label__acesso_concedido prezados gostaria de...   \n",
       "1887851    2015-07-01  __label__acesso_concedido prezados gostaria de...   \n",
       "1887855    2015-07-01  __label__acesso_concedido prezados gostaria de...   \n",
       "...               ...                                                ...   \n",
       "2793635    2020-12-31  __label__nan boa noite tenho uma dúvida técnic...   \n",
       "2793643    2020-12-31  __label__nan no ano de 2020 o programa de pós ...   \n",
       "2793644    2020-12-31  __label__acesso_concedido fiz um pedido de pro...   \n",
       "2793668    2020-12-31  __label__acesso_concedido número de óbitos reg...   \n",
       "2793689    2020-12-31  __label__acesso_concedido por favor referente ...   \n",
       "\n",
       "                  AssuntoPedido                                    Decisao  \\\n",
       "IdPedido                                                                     \n",
       "1887837         Conduta Docente                           Acesso Concedido   \n",
       "1887842      Outros em Trabalho                           Acesso Concedido   \n",
       "1887846         Conduta Docente                           Acesso Concedido   \n",
       "1887851       Educação Superior                           Acesso Concedido   \n",
       "1887855       Educação Superior                           Acesso Concedido   \n",
       "...                         ...                                        ...   \n",
       "2793635     Acesso à informação  Não se trata de solicitação de informação   \n",
       "2793643                  Bolsas                     Informação Inexistente   \n",
       "2793644     Acesso à informação                           Acesso Concedido   \n",
       "2793668         Outros em Saúde                           Acesso Concedido   \n",
       "2793689   Outros em Previdência                           Acesso Concedido   \n",
       "\n",
       "                                       EspecificacaoDecisao             label  \n",
       "IdPedido                                                                       \n",
       "1887837             Resposta solicitada inserida no Fala.Br  acesso_concedido  \n",
       "1887842             Resposta solicitada inserida no Fala.Br  acesso_concedido  \n",
       "1887846             Resposta solicitada inserida no Fala.Br  acesso_concedido  \n",
       "1887851                     Informações enviadas por e-mail  acesso_concedido  \n",
       "1887855             Resposta solicitada inserida no Fala.Br  acesso_concedido  \n",
       "...                                                     ...               ...  \n",
       "2793635                                                 NaN               NaN  \n",
       "2793643                                                 NaN               NaN  \n",
       "2793644   Orientação sobre como encontrar a informação s...  acesso_concedido  \n",
       "2793668             Resposta solicitada inserida no Fala.Br  acesso_concedido  \n",
       "2793689             Resposta solicitada inserida no Fala.Br  acesso_concedido  \n",
       "\n",
       "[542905 rows x 8 columns]"
      ],
      "text/html": "<div>\n<style scoped>\n    .dataframe tbody tr th:only-of-type {\n        vertical-align: middle;\n    }\n\n    .dataframe tbody tr th {\n        vertical-align: top;\n    }\n\n    .dataframe thead th {\n        text-align: right;\n    }\n</style>\n<table border=\"1\" class=\"dataframe\">\n  <thead>\n    <tr style=\"text-align: right;\">\n      <th></th>\n      <th>OrgaoDestinatario</th>\n      <th>Situacao</th>\n      <th>DataRegistro</th>\n      <th>DetalhamentoSolicitacao</th>\n      <th>AssuntoPedido</th>\n      <th>Decisao</th>\n      <th>EspecificacaoDecisao</th>\n      <th>label</th>\n    </tr>\n    <tr>\n      <th>IdPedido</th>\n      <th></th>\n      <th></th>\n      <th></th>\n      <th></th>\n      <th></th>\n      <th></th>\n      <th></th>\n      <th></th>\n    </tr>\n  </thead>\n  <tbody>\n    <tr>\n      <th>1887837</th>\n      <td>UFPel – Fundação Universidade Federal de Pelotas</td>\n      <td>Concluída</td>\n      <td>2015-07-01</td>\n      <td>__label__acesso_concedido prezados gostaria de...</td>\n      <td>Conduta Docente</td>\n      <td>Acesso Concedido</td>\n      <td>Resposta solicitada inserida no Fala.Br</td>\n      <td>acesso_concedido</td>\n    </tr>\n    <tr>\n      <th>1887842</th>\n      <td>UFRGS – Universidade Federal do Rio Grande do Sul</td>\n      <td>Concluída</td>\n      <td>2015-07-01</td>\n      <td>__label__acesso_concedido prezados gostaria de...</td>\n      <td>Outros em Trabalho</td>\n      <td>Acesso Concedido</td>\n      <td>Resposta solicitada inserida no Fala.Br</td>\n      <td>acesso_concedido</td>\n    </tr>\n    <tr>\n      <th>1887846</th>\n      <td>IFPI – Instituto Federal de Educação, Ciência ...</td>\n      <td>Concluída</td>\n      <td>2015-07-01</td>\n      <td>__label__acesso_concedido prezados gostaria de...</td>\n      <td>Conduta Docente</td>\n      <td>Acesso Concedido</td>\n      <td>Resposta solicitada inserida no Fala.Br</td>\n      <td>acesso_concedido</td>\n    </tr>\n    <tr>\n      <th>1887851</th>\n      <td>UFCG – Universidade Federal de Campina Grande</td>\n      <td>Concluída</td>\n      <td>2015-07-01</td>\n      <td>__label__acesso_concedido prezados gostaria de...</td>\n      <td>Educação Superior</td>\n      <td>Acesso Concedido</td>\n      <td>Informações enviadas por e-mail</td>\n      <td>acesso_concedido</td>\n    </tr>\n    <tr>\n      <th>1887855</th>\n      <td>UFF – Universidade Federal Fluminense</td>\n      <td>Concluída</td>\n      <td>2015-07-01</td>\n      <td>__label__acesso_concedido prezados gostaria de...</td>\n      <td>Educação Superior</td>\n      <td>Acesso Concedido</td>\n      <td>Resposta solicitada inserida no Fala.Br</td>\n      <td>acesso_concedido</td>\n    </tr>\n    <tr>\n      <th>...</th>\n      <td>...</td>\n      <td>...</td>\n      <td>...</td>\n      <td>...</td>\n      <td>...</td>\n      <td>...</td>\n      <td>...</td>\n      <td>...</td>\n    </tr>\n    <tr>\n      <th>2793635</th>\n      <td>MAPA – Ministério da Agricultura, Pecuária e A...</td>\n      <td>Concluída</td>\n      <td>2020-12-31</td>\n      <td>__label__nan boa noite tenho uma dúvida técnic...</td>\n      <td>Acesso à informação</td>\n      <td>Não se trata de solicitação de informação</td>\n      <td>NaN</td>\n      <td>NaN</td>\n    </tr>\n    <tr>\n      <th>2793643</th>\n      <td>CAPES – Coordenação de Aperfeiçoamento de Pess...</td>\n      <td>Concluída</td>\n      <td>2020-12-31</td>\n      <td>__label__nan no ano de 2020 o programa de pós ...</td>\n      <td>Bolsas</td>\n      <td>Informação Inexistente</td>\n      <td>NaN</td>\n      <td>NaN</td>\n    </tr>\n    <tr>\n      <th>2793644</th>\n      <td>INSS – Instituto Nacional do Seguro Social</td>\n      <td>Concluída</td>\n      <td>2020-12-31</td>\n      <td>__label__acesso_concedido fiz um pedido de pro...</td>\n      <td>Acesso à informação</td>\n      <td>Acesso Concedido</td>\n      <td>Orientação sobre como encontrar a informação s...</td>\n      <td>acesso_concedido</td>\n    </tr>\n    <tr>\n      <th>2793668</th>\n      <td>MS – Ministério da Saúde</td>\n      <td>Concluída</td>\n      <td>2020-12-31</td>\n      <td>__label__acesso_concedido número de óbitos reg...</td>\n      <td>Outros em Saúde</td>\n      <td>Acesso Concedido</td>\n      <td>Resposta solicitada inserida no Fala.Br</td>\n      <td>acesso_concedido</td>\n    </tr>\n    <tr>\n      <th>2793689</th>\n      <td>SUSEP – Superintendência de Seguros Privados</td>\n      <td>Concluída</td>\n      <td>2020-12-31</td>\n      <td>__label__acesso_concedido por favor referente ...</td>\n      <td>Outros em Previdência</td>\n      <td>Acesso Concedido</td>\n      <td>Resposta solicitada inserida no Fala.Br</td>\n      <td>acesso_concedido</td>\n    </tr>\n  </tbody>\n</table>\n<p>542905 rows × 8 columns</p>\n</div>"
     },
     "metadata": {},
     "execution_count": 16
    }
   ],
   "source": [
    "label_mapping ={\n",
    "    \"Resposta solicitada inserida no Fala.Br\": \"acesso_concedido\",\n",
    "    \"Informações enviadas por e-mail\": \"acesso_concedido\",\n",
    "    \"Concedido acesso a sistema corporativo para consulta da informação\": \"acesso_concedido\",\n",
    "    \"Parte da informação demandará mais tempo para produção\": \"acesso_concedido\",\n",
    "    \"Informações enviadas pelo correio\": \"acesso_concedido\",\n",
    "    \"Comunicada necessidade de pagamento de custos de postagem e/ou reprodução\": \"acesso_concedido\",\n",
    "    \"Orientação sobre como encontrar a informação solicitada na Internet ou em publicações existentes\": \n",
    "        # \"referencia_transparencia_ativa\",\n",
    "        \"acesso_concedido\",\n",
    "    \"Pedido genérico\": \"pedido_generico\",\n",
    "    \"Parte do pedido é genérico\": \"pedido_generico\",\n",
    "    \"Dados pessoais\": \"dados_pessoais\",\n",
    "    \"Parte da informação contém dados pessoais\": \"dados_pessoais\",\n",
    "    # \"Parte da informação inexistente\": \"informacao_inexistente\",\n",
    "    # \"Processo decisório em curso\": \"procedimento_em_curso\",\n",
    "    \"Pedido desproporcional ou desarrazoado\": \"desproporcional_ou_trabalho_adicional\",\n",
    "    \"Parte do pedido é desproporcional ou desarrazoado\": \"desproporcional_ou_trabalho_adicional\",\n",
    "    \"Pedido exige tratamento adicional de dados\": \"desproporcional_ou_trabalho_adicional\",\n",
    "    \"Pedido incompreensível\": \"pedido_incompreensivel\",\n",
    "    \"Parte do pedido é incompreensível\": \"pedido_incompreensivel\",\n",
    "    # \"Informação sigilosa classificada conforme a Lei 12.527/2011\": \"informacao_classificada\",\n",
    "    # \"Parte da informação é sigilosa e classificada conforme a Lei 12.527/2011\": \"informacao_classificada\",\n",
    "    \"Parte da informação é sigilosa de acordo com legislação específica\": \"sigilo_especifico\",\n",
    "}\n",
    "\n",
    "requests[\"label\"] = requests[\"EspecificacaoDecisao\"].map(label_mapping)\n",
    "requests[\"DetalhamentoSolicitacao\"] = requests.apply(\n",
    "    lambda row: \"__label__{} {}\".format(row['label'], row['DetalhamentoSolicitacao']),\n",
    "    axis=1,\n",
    ")\n",
    "requests.dropna(subset=[\"label\"])\n",
    "requests"
   ]
  },
  {
   "source": [
    "## Separar conjuntos de treinamento e de teste"
   ],
   "cell_type": "markdown",
   "metadata": {}
  },
  {
   "source": [
    "Separar um trimestre aleatório por ano para compor o conjunto de testes, de modo a comparar a performance dos modelos. Utilizar trechos contínuos da série temporal é uma estratégia para tentar garantir que os modelos sejam robustos em relação também a assuntos passageiros, que possam aparecer durante um período curto de tempo sem terem aparecido de forma consistente no conjunto de treinamento."
   ],
   "cell_type": "markdown",
   "metadata": {}
  },
  {
   "cell_type": "code",
   "execution_count": 31,
   "metadata": {},
   "outputs": [],
   "source": [
    "from random import randint, seed\n",
    "\n",
    "from imblearn.under_sampling import RandomUnderSampler\n",
    "# from sklearn.model_selection import train_test_split\n",
    "\n",
    "\n",
    "seed(0)\n",
    "\n",
    "labels = set(requests[\"label\"].dropna().unique())\n",
    "labels.remove(\"acesso_concedido\")\n",
    "\n",
    "\n",
    "for label in labels:\n",
    "    \n",
    "    full_data = requests.query(\"label == 'acesso_concedido' | label == @label\")\n",
    "\n",
    "    test_data = pd.DataFrame()\n",
    "    for dt in pd.date_range(min(full_data[\"DataRegistro\"]), max(full_data[\"DataRegistro\"]), freq=\"YS\"):\n",
    "        test_dt_start = dt + pd.Timedelta(days=randint(0, 365-90))\n",
    "        test_dt_end = test_dt_start + pd.Timedelta(days=90)\n",
    "        test_data = pd.concat([test_data, full_data.query(\"@test_dt_start <= DataRegistro < @test_dt_end\")])\n",
    "\n",
    "    train_data = full_data.loc[~full_data.index.isin(test_data.index)]\n",
    "    under_sampler = RandomUnderSampler(random_state=0)\n",
    "    train_data_resampled, _ = under_sampler.fit_resample(train_data.drop(columns=[\"label\"]), train_data[\"label\"])\n",
    "    train_data_resampled\n",
    "\n",
    "    # stratify_cols = [\"OrgaoDestinatario\", \"AssuntoPedido\"]\n",
    "    # test_size = 0.2\n",
    "\n",
    "    # positive_cases = requests.query(\"label == 'acesso_concedido'\")\n",
    "    # train_positive, test_positive = train_test_split(\n",
    "    #     positive_cases,\n",
    "    #     test_size=test_size,\n",
    "    #     stratify=positive_cases[stratify_cols],\n",
    "    #     random_state=0,\n",
    "    # )\n",
    "    \n",
    "    # negative_cases = requests.query(\"label == '{}'\".format(label))\n",
    "    # train_negative, test_negative = train_test_split(\n",
    "    #     positive_cases,\n",
    "    #     test_size=test_size,\n",
    "    #     stratify=negative_cases[stratify_cols],\n",
    "    #     random_state=0,\n",
    "    # )\n",
    "\n",
    "    # train = train_negative\n",
    "    # test = pd.concat([test_negative, test_positive])\n",
    "\n",
    "    # negative_strata = (\n",
    "    #     negative_cases\n",
    "    #     .reset_index()\n",
    "    #     .groupby(stratify_cols)\n",
    "    #     [\"IdPedido\"]\n",
    "    #     .count()\n",
    "    #     .rename(\"NumPedidos\")\n",
    "    #     .reset_index()\n",
    "    # )\n",
    "\n",
    "    # for stratum in negative_strata.itertuples():\n",
    "    #     conditions = [\"{} == {}\".format(col, stratum[col]) for col in stratify_cols]\n",
    "    #     condition_expr = \" & \".join(conditions)\n",
    "    #     train = pd.concat([\n",
    "    #         train,\n",
    "    #         train_positive.query(condition_expr).sample(stratum[\"NumPedidos\"], random_state=0)\n",
    "    #     ])\n",
    "\n",
    "    with open(Path(MID_DATA_DIR, \"{}.train.txt\".format(label)), \"w\") as train_file:\n",
    "        train_file.write(\"\\n\".join(train_data_resampled[\"DetalhamentoSolicitacao\"]))\n",
    "\n",
    "    with open(Path(MID_DATA_DIR, \"{}.test.txt\".format(label)), \"w\") as test_file:\n",
    "        test_file.write(\"\\n\".join(test_data[\"DetalhamentoSolicitacao\"]))"
   ]
  },
  {
   "source": [
    "## Executar treinamento"
   ],
   "cell_type": "markdown",
   "metadata": {}
  },
  {
   "cell_type": "code",
   "execution_count": 38,
   "metadata": {},
   "outputs": [
    {
     "output_type": "stream",
     "name": "stderr",
     "text": [
      "Progress: 100.0% Trials:   64 Best score:  0.935730 ETA:   0h 0m 0s\n",
      "Training again with best arguments\n",
      "Read 0M words\n",
      "Number of words:  36388\n",
      "Number of labels: 2\n",
      "Progress: 100.0% words/sec/thread:  148075 lr:  0.000000 avg.loss:  0.610074 ETA:   0h 0m 0s\n"
     ]
    },
    {
     "output_type": "display_data",
     "data": {
      "text/plain": "(97961, 0.6013821827053624, 0.6013821827053624)"
     },
     "metadata": {}
    }
   ],
   "source": [
    "import fasttext\n",
    "\n",
    "model_generic_request = fasttext.train_supervised(\n",
    "    input=str(Path(MID_DATA_DIR, \"pedido_generico.train.txt\")),\n",
    "    autotuneValidationFile=str(Path(MID_DATA_DIR, \"pedido_generico.test.txt\")),\n",
    "    autotuneDuration=1800,\n",
    ")\n",
    "\n",
    "display(\n",
    "    model_generic_request.test(str(Path(MID_DATA_DIR, \"pedido_generico.test.txt\")), k=1)\n",
    ")"
   ]
  },
  {
   "cell_type": "code",
   "execution_count": 39,
   "metadata": {},
   "outputs": [
    {
     "output_type": "stream",
     "name": "stderr",
     "text": [
      "Progress: 100.0% Trials:   23 Best score:  0.868786 ETA:   0h 0m 0s\n",
      "Training again with best arguments\n",
      "Read 0M words\n",
      "Number of words:  33935\n",
      "Number of labels: 2\n",
      "Progress: 100.0% words/sec/thread:   29966 lr:  0.000000 avg.loss:  0.401843 ETA:   0h 0m 0s\n"
     ]
    },
    {
     "output_type": "display_data",
     "data": {
      "text/plain": "(97977, 0.8017289772089368, 0.8017289772089368)"
     },
     "metadata": {}
    }
   ],
   "source": [
    "import fasttext\n",
    "\n",
    "model_personal_data = fasttext.train_supervised(\n",
    "    input=str(Path(MID_DATA_DIR, \"dados_pessoais.train.txt\")),\n",
    "    autotuneValidationFile=str(Path(MID_DATA_DIR, \"dados_pessoais.test.txt\")),\n",
    "    autotuneDuration=1800,\n",
    ")\n",
    "\n",
    "display(\n",
    "    model_personal_data.test(str(Path(MID_DATA_DIR, \"dados_pessoais.test.txt\")), k=1)\n",
    ")"
   ]
  },
  {
   "cell_type": "code",
   "execution_count": 40,
   "metadata": {},
   "outputs": [
    {
     "output_type": "stream",
     "name": "stderr",
     "text": [
      "Progress: 100.0% Trials:   11 Best score:  0.841173 ETA:   0h 0m 0s\n",
      "Training again with best arguments\n",
      "Read 1M words\n",
      "Number of words:  41442\n",
      "Number of labels: 2\n",
      "Progress: 100.0% words/sec/thread:  813879 lr:  0.000000 avg.loss:  0.648182 ETA:   0h 0m 0s\n"
     ]
    },
    {
     "output_type": "display_data",
     "data": {
      "text/plain": "(97836, 0.7257246821211006, 0.7257246821211006)"
     },
     "metadata": {}
    }
   ],
   "source": [
    "import fasttext\n",
    "\n",
    "model_additional_labor = fasttext.train_supervised(\n",
    "    input=str(Path(MID_DATA_DIR, \"desproporcional_ou_trabalho_adicional.train.txt\")),\n",
    "    autotuneValidationFile=str(Path(MID_DATA_DIR, \"desproporcional_ou_trabalho_adicional.test.txt\")),\n",
    "    autotuneDuration=1800,\n",
    ")\n",
    "\n",
    "display(\n",
    "    model_additional_labor.test(str(Path(MID_DATA_DIR, \"desproporcional_ou_trabalho_adicional.test.txt\")), k=1)\n",
    ")"
   ]
  },
  {
   "cell_type": "code",
   "execution_count": 41,
   "metadata": {},
   "outputs": [
    {
     "output_type": "stream",
     "name": "stderr",
     "text": [
      "Progress: 100.0% Trials:  118 Best score:  0.971516 ETA:   0h 0m 0s\n",
      "Training again with best arguments\n",
      "Read 0M words\n",
      "Number of words:  23694\n",
      "Number of labels: 2\n",
      "Progress: 100.0% words/sec/thread: 1516727 lr:  0.000000 avg.loss:  0.459001 ETA:   0h 0m 0s\n"
     ]
    },
    {
     "output_type": "display_data",
     "data": {
      "text/plain": "(96685, 0.7119098102084087, 0.7119098102084087)"
     },
     "metadata": {}
    }
   ],
   "source": [
    "import fasttext\n",
    "\n",
    "model_not_understandable = fasttext.train_supervised(\n",
    "    input=str(Path(MID_DATA_DIR, \"pedido_incompreensivel.train.txt\")),\n",
    "    autotuneValidationFile=str(Path(MID_DATA_DIR, \"pedido_incompreensivel.test.txt\")),\n",
    "    autotuneDuration=1800,\n",
    ")\n",
    "\n",
    "display(\n",
    "    model_not_understandable.test(str(Path(MID_DATA_DIR, \"pedido_incompreensivel.test.txt\")), k=1)\n",
    ")"
   ]
  },
  {
   "cell_type": "code",
   "execution_count": 52,
   "metadata": {},
   "outputs": [
    {
     "output_type": "stream",
     "name": "stderr",
     "text": [
      "Read 0M words\n",
      "Number of words:  21147\n",
      "Number of labels: 2\n",
      "Progress: 100.0% words/sec/thread: 1133277 lr:  0.000000 avg.loss:  0.589484 ETA:   0h 0m 0s\n"
     ]
    },
    {
     "output_type": "display_data",
     "data": {
      "text/plain": "(96613, 0.6420771531781437, 0.6420771531781437)"
     },
     "metadata": {}
    }
   ],
   "source": [
    "import fasttext\n",
    "\n",
    "model_specific_classification = fasttext.train_supervised(\n",
    "    input=str(Path(MID_DATA_DIR, \"sigilo_especifico.train.txt\")),\n",
    "    # autotuneValidationFile=str(Path(MID_DATA_DIR, \"sigilo_especifico.test.txt\")),\n",
    "    # autotuneDuration=1800,\n",
    ")\n",
    "\n",
    "display(\n",
    "    model_specific_classification.test(str(Path(MID_DATA_DIR, \"sigilo_especifico.test.txt\")), k=1)\n",
    ")"
   ]
  },
  {
   "cell_type": "code",
   "execution_count": 43,
   "metadata": {},
   "outputs": [],
   "source": [
    "model_generic_request.save_model(str(Path(OUT_DATA_DIR, \"pedido_generico.bin\")))\n",
    "model_personal_data.save_model(str(Path(OUT_DATA_DIR, \"dados_pessoais.bin\")))\n",
    "model_additional_labor.save_model(str(Path(OUT_DATA_DIR, \"desproporcional_ou_trabalho_adicional.bin\")))\n",
    "model_not_understandable.save_model(str(Path(OUT_DATA_DIR, \"pedido_incompreensivel.bin\")))\n",
    "model_specific_classification.save_model(str(Path(OUT_DATA_DIR, \"sigilo_especifico.bin\")))"
   ]
  },
  {
   "source": [
    "### Validate results"
   ],
   "cell_type": "markdown",
   "metadata": {}
  },
  {
   "cell_type": "code",
   "execution_count": 44,
   "metadata": {},
   "outputs": [
    {
     "output_type": "execute_result",
     "data": {
      "text/plain": [
       "[]"
      ]
     },
     "metadata": {},
     "execution_count": 44
    }
   ],
   "source": [
    "list(IN_DATA_DIR.glob(f\"????????_Pedidos_csv_2021.csv\"))"
   ]
  },
  {
   "cell_type": "code",
   "execution_count": 49,
   "metadata": {},
   "outputs": [
    {
     "output_type": "execute_result",
     "data": {
      "text/plain": [
       "                                          OrgaoDestinatario   Situacao  \\\n",
       "IdPedido                                                                 \n",
       "2793736   EBSERH - HUAB-UFRN - Hospital Universitário An...  Concluída   \n",
       "2793760        SUSEP – Superintendência de Seguros Privados  Concluída   \n",
       "2793766         UFMG – Universidade Federal de Minas Gerais  Concluída   \n",
       "2793772   ANP – Agência Nacional do Petróleo, Gás Natura...  Concluída   \n",
       "2793784    MJSP – Ministério da Justiça e Segurança Pública  Concluída   \n",
       "...                                                     ...        ...   \n",
       "3447353   MCIDADANIA - Ministério da Cidadania (Desenvol...  Concluída   \n",
       "3447379   MCIDADANIA - Ministério da Cidadania (Desenvol...  Concluída   \n",
       "3447672   MCIDADANIA - Ministério da Cidadania (Desenvol...  Concluída   \n",
       "3447736   MCIDADANIA - Ministério da Cidadania (Desenvol...  Concluída   \n",
       "3447761                 ANM - Agência Nacional de Mineração  Concluída   \n",
       "\n",
       "         DataRegistro                            DetalhamentoSolicitacao  \\\n",
       "IdPedido                                                                   \n",
       "2793736    2021-01-01  solicito esclarecimentos do processo de seleçã...   \n",
       "2793760    2021-01-01  por favor referente processo susep 15414633999...   \n",
       "2793766    2021-01-01  bom dia tenho interesse de saber se a universi...   \n",
       "2793772    2021-01-01  solicito da anp os relatórios de fiscalização ...   \n",
       "2793784    2021-01-01  excelentíssimos meus cumprimentos venho por me...   \n",
       "...               ...                                                ...   \n",
       "3447353    2021-07-30  gostaria de saber pq meu auxílio do ano de 202...   \n",
       "3447379    2021-07-30  olá boa tarde gostaria de saber dessa informaç...   \n",
       "3447672    2021-07-30  queria informações sobre o motivo da quarta pa...   \n",
       "3447736    2021-07-30  gostaria de saber porque os desempregados dura...   \n",
       "3447761    2021-07-30  com respaldo da lei 12 527 2011 lei de acesso ...   \n",
       "\n",
       "                    AssuntoPedido                                    Decisao  \\\n",
       "IdPedido                                                                       \n",
       "2793736   Outros em Administração                           Acesso Concedido   \n",
       "2793760     Outros em Previdência                           Acesso Concedido   \n",
       "2793766                  Concurso                           Acesso Concedido   \n",
       "2793772       Acesso à informação                              Acesso Negado   \n",
       "2793784       Acesso à informação                           Acesso Concedido   \n",
       "...                           ...                                        ...   \n",
       "3447353                   Auxílio  Não se trata de solicitação de informação   \n",
       "3447379                  Cadastro  Não se trata de solicitação de informação   \n",
       "3447672                   Auxílio  Não se trata de solicitação de informação   \n",
       "3447736                   Auxílio  Não se trata de solicitação de informação   \n",
       "3447761                 Mineração                           Acesso Concedido   \n",
       "\n",
       "                                       EspecificacaoDecisao             label  \n",
       "IdPedido                                                                       \n",
       "2793736             Resposta solicitada inserida no Fala.Br  acesso_concedido  \n",
       "2793760             Resposta solicitada inserida no Fala.Br  acesso_concedido  \n",
       "2793766             Resposta solicitada inserida no Fala.Br  acesso_concedido  \n",
       "2793772   Informação sigilosa classificada conforme a Le...               NaN  \n",
       "2793784             Resposta solicitada inserida no Fala.Br  acesso_concedido  \n",
       "...                                                     ...               ...  \n",
       "3447353                                                 NaN               NaN  \n",
       "3447379                                                 NaN               NaN  \n",
       "3447672                                                 NaN               NaN  \n",
       "3447736                                                 NaN               NaN  \n",
       "3447761   Orientação sobre como encontrar a informação s...  acesso_concedido  \n",
       "\n",
       "[49755 rows x 8 columns]"
      ],
      "text/html": "<div>\n<style scoped>\n    .dataframe tbody tr th:only-of-type {\n        vertical-align: middle;\n    }\n\n    .dataframe tbody tr th {\n        vertical-align: top;\n    }\n\n    .dataframe thead th {\n        text-align: right;\n    }\n</style>\n<table border=\"1\" class=\"dataframe\">\n  <thead>\n    <tr style=\"text-align: right;\">\n      <th></th>\n      <th>OrgaoDestinatario</th>\n      <th>Situacao</th>\n      <th>DataRegistro</th>\n      <th>DetalhamentoSolicitacao</th>\n      <th>AssuntoPedido</th>\n      <th>Decisao</th>\n      <th>EspecificacaoDecisao</th>\n      <th>label</th>\n    </tr>\n    <tr>\n      <th>IdPedido</th>\n      <th></th>\n      <th></th>\n      <th></th>\n      <th></th>\n      <th></th>\n      <th></th>\n      <th></th>\n      <th></th>\n    </tr>\n  </thead>\n  <tbody>\n    <tr>\n      <th>2793736</th>\n      <td>EBSERH - HUAB-UFRN - Hospital Universitário An...</td>\n      <td>Concluída</td>\n      <td>2021-01-01</td>\n      <td>solicito esclarecimentos do processo de seleçã...</td>\n      <td>Outros em Administração</td>\n      <td>Acesso Concedido</td>\n      <td>Resposta solicitada inserida no Fala.Br</td>\n      <td>acesso_concedido</td>\n    </tr>\n    <tr>\n      <th>2793760</th>\n      <td>SUSEP – Superintendência de Seguros Privados</td>\n      <td>Concluída</td>\n      <td>2021-01-01</td>\n      <td>por favor referente processo susep 15414633999...</td>\n      <td>Outros em Previdência</td>\n      <td>Acesso Concedido</td>\n      <td>Resposta solicitada inserida no Fala.Br</td>\n      <td>acesso_concedido</td>\n    </tr>\n    <tr>\n      <th>2793766</th>\n      <td>UFMG – Universidade Federal de Minas Gerais</td>\n      <td>Concluída</td>\n      <td>2021-01-01</td>\n      <td>bom dia tenho interesse de saber se a universi...</td>\n      <td>Concurso</td>\n      <td>Acesso Concedido</td>\n      <td>Resposta solicitada inserida no Fala.Br</td>\n      <td>acesso_concedido</td>\n    </tr>\n    <tr>\n      <th>2793772</th>\n      <td>ANP – Agência Nacional do Petróleo, Gás Natura...</td>\n      <td>Concluída</td>\n      <td>2021-01-01</td>\n      <td>solicito da anp os relatórios de fiscalização ...</td>\n      <td>Acesso à informação</td>\n      <td>Acesso Negado</td>\n      <td>Informação sigilosa classificada conforme a Le...</td>\n      <td>NaN</td>\n    </tr>\n    <tr>\n      <th>2793784</th>\n      <td>MJSP – Ministério da Justiça e Segurança Pública</td>\n      <td>Concluída</td>\n      <td>2021-01-01</td>\n      <td>excelentíssimos meus cumprimentos venho por me...</td>\n      <td>Acesso à informação</td>\n      <td>Acesso Concedido</td>\n      <td>Resposta solicitada inserida no Fala.Br</td>\n      <td>acesso_concedido</td>\n    </tr>\n    <tr>\n      <th>...</th>\n      <td>...</td>\n      <td>...</td>\n      <td>...</td>\n      <td>...</td>\n      <td>...</td>\n      <td>...</td>\n      <td>...</td>\n      <td>...</td>\n    </tr>\n    <tr>\n      <th>3447353</th>\n      <td>MCIDADANIA - Ministério da Cidadania (Desenvol...</td>\n      <td>Concluída</td>\n      <td>2021-07-30</td>\n      <td>gostaria de saber pq meu auxílio do ano de 202...</td>\n      <td>Auxílio</td>\n      <td>Não se trata de solicitação de informação</td>\n      <td>NaN</td>\n      <td>NaN</td>\n    </tr>\n    <tr>\n      <th>3447379</th>\n      <td>MCIDADANIA - Ministério da Cidadania (Desenvol...</td>\n      <td>Concluída</td>\n      <td>2021-07-30</td>\n      <td>olá boa tarde gostaria de saber dessa informaç...</td>\n      <td>Cadastro</td>\n      <td>Não se trata de solicitação de informação</td>\n      <td>NaN</td>\n      <td>NaN</td>\n    </tr>\n    <tr>\n      <th>3447672</th>\n      <td>MCIDADANIA - Ministério da Cidadania (Desenvol...</td>\n      <td>Concluída</td>\n      <td>2021-07-30</td>\n      <td>queria informações sobre o motivo da quarta pa...</td>\n      <td>Auxílio</td>\n      <td>Não se trata de solicitação de informação</td>\n      <td>NaN</td>\n      <td>NaN</td>\n    </tr>\n    <tr>\n      <th>3447736</th>\n      <td>MCIDADANIA - Ministério da Cidadania (Desenvol...</td>\n      <td>Concluída</td>\n      <td>2021-07-30</td>\n      <td>gostaria de saber porque os desempregados dura...</td>\n      <td>Auxílio</td>\n      <td>Não se trata de solicitação de informação</td>\n      <td>NaN</td>\n      <td>NaN</td>\n    </tr>\n    <tr>\n      <th>3447761</th>\n      <td>ANM - Agência Nacional de Mineração</td>\n      <td>Concluída</td>\n      <td>2021-07-30</td>\n      <td>com respaldo da lei 12 527 2011 lei de acesso ...</td>\n      <td>Mineração</td>\n      <td>Acesso Concedido</td>\n      <td>Orientação sobre como encontrar a informação s...</td>\n      <td>acesso_concedido</td>\n    </tr>\n  </tbody>\n</table>\n<p>49755 rows × 8 columns</p>\n</div>"
     },
     "metadata": {},
     "execution_count": 49
    }
   ],
   "source": [
    "url = (\n",
    "    \"https://dadosabertos-download.cgu.gov.br/FalaBR\"\n",
    "    \"/Arquivos_FalaBR_Filtrado/Arquivos_csv_2021.zip\"\n",
    ")\n",
    "http_response = urlopen(url)\n",
    "zipfile = ZipFile(BytesIO(http_response.read()))\n",
    "zipfile.extractall(path=IN_DATA_DIR)\n",
    "requests_2021_path = Path(\n",
    "    IN_DATA_DIR,\n",
    "    \"{:%Y%m%d}_Pedidos_csv_2021.csv\".format(NOW),\n",
    ")\n",
    "\n",
    "requests_2021 = pd.read_csv(\n",
    "    requests_2021_path,\n",
    "    encoding=\"UTF-16\",\n",
    "    index_col=\"IdPedido\",\n",
    "    names=[\n",
    "        \"IdPedido\",\n",
    "        \"ProtocoloPedido\",\n",
    "        \"Esfera\",\n",
    "        \"OrgaoDestinatario\",\n",
    "        \"Situacao\",\n",
    "        \"DataRegistro\",\n",
    "        \"ResumoSolicitacao\",\n",
    "        \"DetalhamentoSolicitacao\",\n",
    "        \"PrazoAtendimento\",\n",
    "        \"FoiProrrogado\",\n",
    "        \"FoiReencaminhado\",\n",
    "        \"FormaResposta\",\n",
    "        \"OrigemSolicitacao\",\n",
    "        \"IdSolicitante\",\n",
    "        \"AssuntoPedido\",\n",
    "        \"SubAssuntoPedido\",\n",
    "        \"DataResposta\",\n",
    "        \"Resposta\",\n",
    "        \"Decisao\",\n",
    "        \"EspecificacaoDecisao\",\n",
    "    ],\n",
    "    parse_dates=[\n",
    "        \"DataRegistro\",\n",
    "    ],\n",
    "    usecols=[\n",
    "        \"IdPedido\",\n",
    "        \"OrgaoDestinatario\",\n",
    "        \"Situacao\",\n",
    "        \"DataRegistro\",\n",
    "        \"AssuntoPedido\",\n",
    "        \"DetalhamentoSolicitacao\",\n",
    "        \"Decisao\",\n",
    "        \"EspecificacaoDecisao\",\n",
    "    ],\n",
    "    lineterminator=\"\\r\",\n",
    "    **foia_readers_params,\n",
    ")\n",
    "\n",
    "requests_2021.index = requests_2021.index.to_series().apply(lambda _id: _id.lstrip(\"\\n\") if isinstance(_id, str) else _id)\n",
    "\n",
    "\n",
    "requests_2021.dropna(subset=[\"DetalhamentoSolicitacao\"], inplace=True)\n",
    "requests_2021[\"DetalhamentoSolicitacao\"] = requests_2021[\"DetalhamentoSolicitacao\"].apply(\n",
    "    preprocess\n",
    ")\n",
    "\n",
    "requests_2021[\"label\"] = requests_2021[\"EspecificacaoDecisao\"].map(label_mapping)\n",
    "requests_2021.dropna(subset=[\"label\"])\n",
    "\n",
    "requests_2021"
   ]
  },
  {
   "cell_type": "code",
   "execution_count": 56,
   "metadata": {},
   "outputs": [],
   "source": [
    "models = {\n",
    "    \"pedido_generico\": model_generic_request,\n",
    "    \"dados_pessoais\": model_personal_data,\n",
    "    \"desproporcional_ou_trabalho_adicional\": model_additional_labor,\n",
    "    \"pedido_incompreensivel\": model_not_understandable,\n",
    "    \"sigilo_especifico\": model_specific_classification,\n",
    "}\n",
    "\n",
    "for label in labels:\n",
    "    requests_2021[label] = requests_2021[\"DetalhamentoSolicitacao\"].apply(\n",
    "        lambda text: models[label].predict(text)[0][0].lstrip(\"__label__\")\n",
    "    )"
   ]
  },
  {
   "cell_type": "code",
   "execution_count": 67,
   "metadata": {},
   "outputs": [],
   "source": [
    "for label in labels:\n",
    "    requests_2021.loc[requests_2021[\"label\"]==label, \"acerto\"] = requests_2021.apply(\n",
    "        lambda row: row[label] == row[\"label\"],\n",
    "        axis=1,\n",
    "    )\n",
    "\n",
    "requests_2021.loc[requests_2021[\"label\"]==\"acesso_concedido\", \"acerto\"] = (\n",
    "    requests_2021.loc[requests_2021[\"label\"]==\"acesso_concedido\"].apply(\n",
    "        lambda row: all(row[label].endswith(\"cesso_concedido\") for label in labels),\n",
    "        axis=1,\n",
    "    )\n",
    ")"
   ]
  },
  {
   "cell_type": "code",
   "execution_count": 68,
   "metadata": {},
   "outputs": [
    {
     "output_type": "execute_result",
     "data": {
      "text/plain": [
       "                                         acerto\n",
       "label                                          \n",
       "acesso_concedido                       0.233635\n",
       "dados_pessoais                         0.639194\n",
       "desproporcional_ou_trabalho_adicional  0.663317\n",
       "pedido_generico                        0.790072\n",
       "pedido_incompreensivel                 0.734177\n",
       "sigilo_especifico                      0.677083"
      ],
      "text/html": "<div>\n<style scoped>\n    .dataframe tbody tr th:only-of-type {\n        vertical-align: middle;\n    }\n\n    .dataframe tbody tr th {\n        vertical-align: top;\n    }\n\n    .dataframe thead th {\n        text-align: right;\n    }\n</style>\n<table border=\"1\" class=\"dataframe\">\n  <thead>\n    <tr style=\"text-align: right;\">\n      <th></th>\n      <th>acerto</th>\n    </tr>\n    <tr>\n      <th>label</th>\n      <th></th>\n    </tr>\n  </thead>\n  <tbody>\n    <tr>\n      <th>acesso_concedido</th>\n      <td>0.233635</td>\n    </tr>\n    <tr>\n      <th>dados_pessoais</th>\n      <td>0.639194</td>\n    </tr>\n    <tr>\n      <th>desproporcional_ou_trabalho_adicional</th>\n      <td>0.663317</td>\n    </tr>\n    <tr>\n      <th>pedido_generico</th>\n      <td>0.790072</td>\n    </tr>\n    <tr>\n      <th>pedido_incompreensivel</th>\n      <td>0.734177</td>\n    </tr>\n    <tr>\n      <th>sigilo_especifico</th>\n      <td>0.677083</td>\n    </tr>\n  </tbody>\n</table>\n</div>"
     },
     "metadata": {},
     "execution_count": 68
    }
   ],
   "source": [
    "requests_2021.groupby(\"label\").agg({\"acerto\": lambda group: sum(group)/len(group)})"
   ]
  }
 ],
 "metadata": {
  "accelerator": "GPU",
  "colab": {
   "authorship_tag": "ABX9TyOD7XV5ufWAg89FqUkt6LYw",
   "collapsed_sections": [],
   "mount_file_id": "1G9IyrKPjWhxuRRePc48a1XISowwcez9x",
   "name": "classifier.ipynb",
   "provenance": []
  },
  "kernelspec": {
   "display_name": "Python 3.9.6 64-bit ('.venv': venv)",
   "language": "python",
   "name": "python39664bitvenvvenv86e8c6655d784ce18e8856d3a4f728e6"
  },
  "language_info": {
   "codemirror_mode": {
    "name": "ipython",
    "version": 3
   },
   "file_extension": ".py",
   "mimetype": "text/x-python",
   "name": "python",
   "nbconvert_exporter": "python",
   "pygments_lexer": "ipython3",
   "version": "3.9.6-final"
  },
  "varInspector": {
   "cols": {
    "lenName": 16,
    "lenType": 16,
    "lenVar": 40
   },
   "kernels_config": {
    "python": {
     "delete_cmd_postfix": "",
     "delete_cmd_prefix": "del ",
     "library": "var_list.py",
     "varRefreshCmd": "print(var_dic_list())"
    },
    "r": {
     "delete_cmd_postfix": ") ",
     "delete_cmd_prefix": "rm(",
     "library": "var_list.r",
     "varRefreshCmd": "cat(var_dic_list()) "
    }
   },
   "types_to_exclude": [
    "module",
    "function",
    "builtin_function_or_method",
    "instance",
    "_Feature"
   ],
   "window_display": false
  }
 },
 "nbformat": 4,
 "nbformat_minor": 1
}